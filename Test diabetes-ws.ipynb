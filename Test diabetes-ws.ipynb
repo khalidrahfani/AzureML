{
 "cells": [
  {
   "cell_type": "code",
   "execution_count": 9,
   "id": "8b126f78",
   "metadata": {},
   "outputs": [],
   "source": [
    "url = 'http://40cea901-0ed3-4b4d-a7ba-028b3826e716.francecentral.azurecontainer.io/score'\n",
    "import requests\n",
    "import json"
   ]
  },
  {
   "cell_type": "code",
   "execution_count": 78,
   "id": "3fc4e550",
   "metadata": {},
   "outputs": [],
   "source": [
    "data = {\n",
    "    'data' :[{\"Pregnancies\": 6,\n",
    "              \"Glucose\": 87,\n",
    "              \"BloodPressure\": 80,\n",
    "              \"SkinThickness\": 0,\n",
    "              \"Insulin\": 0,\n",
    "              \"BMI\": 23.2,\n",
    "              \"DiabetesPedigreeFunction\": 0.084,\n",
    "              \"Age\": 32}]\n",
    "       }\n",
    "headers = {'Content-Type' : 'application/json'}\n",
    "r = requests.post (url, json.dumps(data), headers = headers)"
   ]
  },
  {
   "cell_type": "code",
   "execution_count": 79,
   "id": "2a1759bb",
   "metadata": {
    "scrolled": true
   },
   "outputs": [
    {
     "ename": "KeyError",
     "evalue": "'data'",
     "output_type": "error",
     "traceback": [
      "\u001b[1;31m---------------------------------------------------------------------------\u001b[0m",
      "\u001b[1;31mKeyError\u001b[0m                                  Traceback (most recent call last)",
      "\u001b[1;32m~\\AppData\\Local\\Temp\\ipykernel_22400\\1688296450.py\u001b[0m in \u001b[0;36m<module>\u001b[1;34m\u001b[0m\n\u001b[1;32m----> 1\u001b[1;33m \u001b[0mprint\u001b[0m \u001b[1;33m(\u001b[0m\u001b[1;34m'Prediected Class label:'\u001b[0m\u001b[1;33m,\u001b[0m \u001b[0mr\u001b[0m\u001b[1;33m.\u001b[0m\u001b[0mjson\u001b[0m\u001b[1;33m(\u001b[0m\u001b[1;33m)\u001b[0m\u001b[1;33m[\u001b[0m\u001b[1;34m'data'\u001b[0m\u001b[1;33m]\u001b[0m\u001b[1;33m[\u001b[0m\u001b[1;36m0\u001b[0m\u001b[1;33m]\u001b[0m\u001b[1;33m)\u001b[0m\u001b[1;33m\u001b[0m\u001b[1;33m\u001b[0m\u001b[0m\n\u001b[0m",
      "\u001b[1;31mKeyError\u001b[0m: 'data'"
     ]
    }
   ],
   "source": [
    "print ('Prediected Class label:', r.json()['data'][0])"
   ]
  },
  {
   "cell_type": "code",
   "execution_count": 65,
   "id": "c103ee29",
   "metadata": {},
   "outputs": [
    {
     "data": {
      "text/plain": [
       "{'Pregnancies': 6,\n",
       " 'Glucose': 87,\n",
       " 'BloodPressure': 80,\n",
       " 'SkinThickness': 0,\n",
       " 'Insulin': 0,\n",
       " 'BMI': 23.2,\n",
       " 'DiabetesPedigreeFunction': 0.084,\n",
       " 'Age': 32}"
      ]
     },
     "execution_count": 65,
     "metadata": {},
     "output_type": "execute_result"
    }
   ],
   "source": [
    "data['data']"
   ]
  },
  {
   "cell_type": "code",
   "execution_count": 38,
   "id": "03f2d760",
   "metadata": {},
   "outputs": [
    {
     "data": {
      "text/plain": [
       "'data'"
      ]
     },
     "execution_count": 38,
     "metadata": {},
     "output_type": "execute_result"
    }
   ],
   "source": [
    "['data'][0]"
   ]
  },
  {
   "cell_type": "code",
   "execution_count": 73,
   "id": "0d129d83",
   "metadata": {},
   "outputs": [
    {
     "name": "stdout",
     "output_type": "stream",
     "text": [
      "The request failed with status code: 502\n",
      "Content-Length: 57\n",
      "Content-Type: text/html; charset=utf-8\n",
      "Date: Thu, 25 Aug 2022 16:04:34 GMT\n",
      "Server: nginx/1.14.0 (Ubuntu)\n",
      "X-Ms-Client-Request-Id: 633a104c-8ab1-422f-b685-05f8cbc31dc3\n",
      "X-Ms-Request-Id: 633a104c-8ab1-422f-b685-05f8cbc31dc3\n",
      "X-Ms-Run-Function-Failed: True\n",
      "X-Ms-Server-Version: azmlinfsrv/0.7.5\n",
      "X-Request-Id: 08e8d9e3-47c2-4050-9a16-241fc8257e99\n",
      "Connection: close\n",
      "\n",
      "\n",
      "'ExperimentTansformers' object has no attribute 'predict'\n"
     ]
    }
   ],
   "source": [
    "import urllib.request\n",
    "import json\n",
    "import os\n",
    "import ssl\n",
    "\n",
    "def allowSelfSignedHttps(allowed):\n",
    "    # bypass the server certificate verification on client side\n",
    "    if allowed and not os.environ.get('PYTHONHTTPSVERIFY', '') and getattr(ssl, '_create_unverified_context', None):\n",
    "        ssl._create_default_https_context = ssl._create_unverified_context\n",
    "\n",
    "allowSelfSignedHttps(True) # this line is needed if you use self-signed certificate in your scoring service.\n",
    "\n",
    "# Request data goes here\n",
    "# The example below assumes JSON formatting which may be updated\n",
    "# depending on the format your endpoint expects.\n",
    "# More information can be found here:\n",
    "# https://docs.microsoft.com/azure/machine-learning/how-to-deploy-advanced-entry-script\n",
    "data =  {\n",
    "  \"Inputs\": {\n",
    "    \"data\": [\n",
    "      {\n",
    "        \"Pregnancies\": 6,\n",
    "        \"Glucose\": 87,\n",
    "        \"BloodPressure\": 80,\n",
    "        \"SkinThickness\": 0,\n",
    "        \"Insulin\": 0,\n",
    "        \"BMI\": 23.2,\n",
    "        \"DiabetesPedigreeFunction\": 0.084,\n",
    "        \"Age\": 32\n",
    "      }\n",
    "    ]\n",
    "  },\n",
    "  \"GlobalParameters\": {\n",
    "    \"method\": \"predict\"\n",
    "  }\n",
    "}\n",
    "\n",
    "body = str.encode(json.dumps(data))\n",
    "\n",
    "url = 'http://40cea901-0ed3-4b4d-a7ba-028b3826e716.francecentral.azurecontainer.io/score'\n",
    "api_key = '' # Replace this with the API key for the web service\n",
    "\n",
    "# The azureml-model-deployment header will force the request to go to a specific deployment.\n",
    "# Remove this header to have the request observe the endpoint traffic rules\n",
    "headers = {'Content-Type':'application/json', 'Authorization':('Bearer '+ api_key)}\n",
    "\n",
    "req = urllib.request.Request(url, body, headers)\n",
    "\n",
    "try:\n",
    "    response = urllib.request.urlopen(req)\n",
    "\n",
    "    result = response.read()\n",
    "    print(result)\n",
    "except urllib.error.HTTPError as error:\n",
    "    print(\"The request failed with status code: \" + str(error.code))\n",
    "\n",
    "    # Print the headers - they include the requert ID and the timestamp, which are useful for debugging the failure\n",
    "    print(error.info())\n",
    "    print(error.read().decode(\"utf8\", 'ignore'))"
   ]
  }
 ],
 "metadata": {
  "kernelspec": {
   "display_name": "Python 3 (ipykernel)",
   "language": "python",
   "name": "python3"
  },
  "language_info": {
   "codemirror_mode": {
    "name": "ipython",
    "version": 3
   },
   "file_extension": ".py",
   "mimetype": "text/x-python",
   "name": "python",
   "nbconvert_exporter": "python",
   "pygments_lexer": "ipython3",
   "version": "3.7.9"
  }
 },
 "nbformat": 4,
 "nbformat_minor": 5
}
